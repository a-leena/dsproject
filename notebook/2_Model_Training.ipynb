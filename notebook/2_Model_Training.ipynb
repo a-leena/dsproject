{
 "cells": [
  {
   "cell_type": "markdown",
   "id": "b19adacd",
   "metadata": {},
   "source": [
    "# Model Training"
   ]
  },
  {
   "cell_type": "markdown",
   "id": "8fca7913",
   "metadata": {},
   "source": [
    "## Import Libraries"
   ]
  },
  {
   "cell_type": "code",
   "execution_count": 2,
   "id": "17fa3693",
   "metadata": {},
   "outputs": [],
   "source": [
    "import numpy as np\n",
    "import pandas as pd\n",
    "import matplotlib.pyplot as plt\n",
    "import seaborn as sns\n",
    "from sklearn.neighbors import KNeighborsRegressor\n",
    "from sklearn.tree import DecisionTreeRegressor\n",
    "from sklearn.ensemble import RandomForestRegressor, AdaBoostRegressor\n",
    "from sklearn.svm import SVR\n",
    "from sklearn.linear_model import LinearRegression, Ridge, Lasso\n",
    "from catboost import CatBoostRegressor\n",
    "from xgboost import XGBRegressor\n",
    "from sklearn.model_selection import train_test_split, RandomizedSearchCV\n",
    "from sklearn.preprocessing import OneHotEncoder, StandardScaler\n",
    "from sklearn.compose import ColumnTransformer\n",
    "from sklearn.metrics import mean_squared_error, mean_absolute_error, r2_score \n",
    "import warnings\n",
    "warnings.filterwarnings('ignore')"
   ]
  },
  {
   "cell_type": "markdown",
   "id": "4cf81c62",
   "metadata": {},
   "source": [
    "## Load Dataset"
   ]
  },
  {
   "cell_type": "code",
   "execution_count": 3,
   "id": "4f57930b",
   "metadata": {},
   "outputs": [
    {
     "data": {
      "text/html": [
       "<div>\n",
       "<style scoped>\n",
       "    .dataframe tbody tr th:only-of-type {\n",
       "        vertical-align: middle;\n",
       "    }\n",
       "\n",
       "    .dataframe tbody tr th {\n",
       "        vertical-align: top;\n",
       "    }\n",
       "\n",
       "    .dataframe thead th {\n",
       "        text-align: right;\n",
       "    }\n",
       "</style>\n",
       "<table border=\"1\" class=\"dataframe\">\n",
       "  <thead>\n",
       "    <tr style=\"text-align: right;\">\n",
       "      <th></th>\n",
       "      <th>gender</th>\n",
       "      <th>race_ethnicity</th>\n",
       "      <th>parental_level_of_education</th>\n",
       "      <th>lunch</th>\n",
       "      <th>test_preparation_course</th>\n",
       "      <th>math_score</th>\n",
       "      <th>reading_score</th>\n",
       "      <th>writing_score</th>\n",
       "      <th>total_score</th>\n",
       "      <th>average_score</th>\n",
       "    </tr>\n",
       "  </thead>\n",
       "  <tbody>\n",
       "    <tr>\n",
       "      <th>913</th>\n",
       "      <td>female</td>\n",
       "      <td>group C</td>\n",
       "      <td>bachelor's degree</td>\n",
       "      <td>free/reduced</td>\n",
       "      <td>completed</td>\n",
       "      <td>47</td>\n",
       "      <td>62</td>\n",
       "      <td>66</td>\n",
       "      <td>175</td>\n",
       "      <td>58.33</td>\n",
       "    </tr>\n",
       "    <tr>\n",
       "      <th>101</th>\n",
       "      <td>male</td>\n",
       "      <td>group D</td>\n",
       "      <td>bachelor's degree</td>\n",
       "      <td>standard</td>\n",
       "      <td>completed</td>\n",
       "      <td>68</td>\n",
       "      <td>74</td>\n",
       "      <td>74</td>\n",
       "      <td>216</td>\n",
       "      <td>72.00</td>\n",
       "    </tr>\n",
       "    <tr>\n",
       "      <th>238</th>\n",
       "      <td>male</td>\n",
       "      <td>group B</td>\n",
       "      <td>some college</td>\n",
       "      <td>standard</td>\n",
       "      <td>none</td>\n",
       "      <td>54</td>\n",
       "      <td>52</td>\n",
       "      <td>51</td>\n",
       "      <td>157</td>\n",
       "      <td>52.33</td>\n",
       "    </tr>\n",
       "    <tr>\n",
       "      <th>546</th>\n",
       "      <td>female</td>\n",
       "      <td>group A</td>\n",
       "      <td>some high school</td>\n",
       "      <td>standard</td>\n",
       "      <td>completed</td>\n",
       "      <td>92</td>\n",
       "      <td>100</td>\n",
       "      <td>97</td>\n",
       "      <td>289</td>\n",
       "      <td>96.33</td>\n",
       "    </tr>\n",
       "    <tr>\n",
       "      <th>343</th>\n",
       "      <td>male</td>\n",
       "      <td>group D</td>\n",
       "      <td>associate's degree</td>\n",
       "      <td>standard</td>\n",
       "      <td>completed</td>\n",
       "      <td>67</td>\n",
       "      <td>72</td>\n",
       "      <td>67</td>\n",
       "      <td>206</td>\n",
       "      <td>68.67</td>\n",
       "    </tr>\n",
       "  </tbody>\n",
       "</table>\n",
       "</div>"
      ],
      "text/plain": [
       "     gender race_ethnicity parental_level_of_education         lunch  \\\n",
       "913  female        group C           bachelor's degree  free/reduced   \n",
       "101    male        group D           bachelor's degree      standard   \n",
       "238    male        group B                some college      standard   \n",
       "546  female        group A            some high school      standard   \n",
       "343    male        group D          associate's degree      standard   \n",
       "\n",
       "    test_preparation_course  math_score  reading_score  writing_score  \\\n",
       "913               completed          47             62             66   \n",
       "101               completed          68             74             74   \n",
       "238                    none          54             52             51   \n",
       "546               completed          92            100             97   \n",
       "343               completed          67             72             67   \n",
       "\n",
       "     total_score  average_score  \n",
       "913          175          58.33  \n",
       "101          216          72.00  \n",
       "238          157          52.33  \n",
       "546          289          96.33  \n",
       "343          206          68.67  "
      ]
     },
     "execution_count": 3,
     "metadata": {},
     "output_type": "execute_result"
    }
   ],
   "source": [
    "df = pd.read_csv('./data/Preprocessed_StudentsPerformance.csv')\n",
    "df.sample(5)"
   ]
  },
  {
   "cell_type": "markdown",
   "id": "1945681b",
   "metadata": {},
   "source": [
    "## Preparing X and Y Variables"
   ]
  },
  {
   "cell_type": "code",
   "execution_count": 4,
   "id": "d76843b0",
   "metadata": {},
   "outputs": [],
   "source": [
    "X = df.drop(columns=['total_score','average_score'])\n",
    "y = df['average_score']"
   ]
  },
  {
   "cell_type": "code",
   "execution_count": 5,
   "id": "7b448506",
   "metadata": {},
   "outputs": [
    {
     "data": {
      "text/plain": [
       "(1000, 8)"
      ]
     },
     "execution_count": 5,
     "metadata": {},
     "output_type": "execute_result"
    }
   ],
   "source": [
    "X.shape"
   ]
  },
  {
   "cell_type": "code",
   "execution_count": 6,
   "id": "c63177b7",
   "metadata": {},
   "outputs": [
    {
     "data": {
      "text/plain": [
       "(1000,)"
      ]
     },
     "execution_count": 6,
     "metadata": {},
     "output_type": "execute_result"
    }
   ],
   "source": [
    "y.shape"
   ]
  },
  {
   "cell_type": "markdown",
   "id": "fd8d3df9",
   "metadata": {},
   "source": [
    "### Preprocess X: Create Column Transformer"
   ]
  },
  {
   "cell_type": "markdown",
   "id": "1bcee32a",
   "metadata": {},
   "source": [
    "* for features that have a not very large number of categories, one-hot encoding is a good choice\n",
    "* for features that have a lot many categories, target-guided ordinal encoding could be a better option. \n",
    "    * in this type of encoding, for each category within the feature we calculate a statistic of the target variable (like mean, median, or sum) associated with that category;\n",
    "    * then sort the categories based on the statistics in ascending/descending order, and assign numerical ranks to the categories. \n",
    "    * this reduces dimensionality of the data compared to one-hot encoding especially when there are a large number of unique categories for the feature. \n",
    "    * it also explicitly encodes a relationship between the feature and the target variable."
   ]
  },
  {
   "cell_type": "markdown",
   "id": "06bc8faf",
   "metadata": {},
   "source": [
    "* ColumnTransformer is used for creating a pipeline\n",
    "* we want to combine the one-hot encoding process of categorical features and standard scaling process of nunerical features, into a single pipeline"
   ]
  },
  {
   "cell_type": "code",
   "execution_count": 7,
   "id": "ec773f5c",
   "metadata": {},
   "outputs": [],
   "source": [
    "numerical_feat = X.select_dtypes(exclude=\"object\").columns\n",
    "categorical_feat = X.select_dtypes(include=\"object\").columns\n",
    "numerical_transformer = StandardScaler()\n",
    "categorical_transformer = OneHotEncoder()\n",
    "\n",
    "preprocessor = ColumnTransformer(\n",
    "    [\n",
    "        (\"OneHotEncoder\", categorical_transformer, categorical_feat),\n",
    "        (\"StandardScaler\", numerical_transformer, numerical_feat)\n",
    "    ]\n",
    ")"
   ]
  },
  {
   "cell_type": "code",
   "execution_count": 8,
   "id": "acbb17ab",
   "metadata": {},
   "outputs": [],
   "source": [
    "X_prepped = preprocessor.fit_transform(X)"
   ]
  },
  {
   "cell_type": "code",
   "execution_count": 9,
   "id": "dfb33604",
   "metadata": {},
   "outputs": [
    {
     "data": {
      "text/plain": [
       "(1000, 20)"
      ]
     },
     "execution_count": 9,
     "metadata": {},
     "output_type": "execute_result"
    }
   ],
   "source": [
    "X_prepped.shape"
   ]
  },
  {
   "cell_type": "code",
   "execution_count": 10,
   "id": "08fdf9e2",
   "metadata": {},
   "outputs": [
    {
     "data": {
      "text/plain": [
       "array([[1.        , 0.        , 0.        , 1.        , 0.        ,\n",
       "        0.        , 0.        , 0.        , 1.        , 0.        ,\n",
       "        0.        , 0.        , 0.        , 0.        , 1.        ,\n",
       "        0.        , 1.        , 0.39002351, 0.19399858, 0.39149181],\n",
       "       [1.        , 0.        , 0.        , 0.        , 0.        ,\n",
       "        1.        , 0.        , 0.        , 0.        , 0.        ,\n",
       "        1.        , 0.        , 0.        , 0.        , 1.        ,\n",
       "        0.        , 1.        , 0.52198883, 0.67368424, 0.91822145]])"
      ]
     },
     "execution_count": 10,
     "metadata": {},
     "output_type": "execute_result"
    }
   ],
   "source": [
    "X_prepped[::500]"
   ]
  },
  {
   "cell_type": "markdown",
   "id": "7817664f",
   "metadata": {},
   "source": [
    "## Split for Training & Testing"
   ]
  },
  {
   "cell_type": "code",
   "execution_count": 11,
   "id": "22c3895c",
   "metadata": {},
   "outputs": [
    {
     "data": {
      "text/plain": [
       "((800, 20), (200, 20), (800,), (200,))"
      ]
     },
     "execution_count": 11,
     "metadata": {},
     "output_type": "execute_result"
    }
   ],
   "source": [
    "X_train, X_test, y_train, y_test = train_test_split(X_prepped, y, test_size=0.2, random_state=42)\n",
    "X_train.shape, X_test.shape, y_train.shape, y_test.shape"
   ]
  },
  {
   "cell_type": "markdown",
   "id": "358f6ccf",
   "metadata": {},
   "source": [
    "## Creating Evaluation Function"
   ]
  },
  {
   "cell_type": "code",
   "execution_count": 12,
   "id": "bd1b267a",
   "metadata": {},
   "outputs": [],
   "source": [
    "def evaluate_model(actual, predicted):\n",
    "    mae = mean_absolute_error(actual, predicted)\n",
    "    rmse = np.sqrt(mean_squared_error(actual, predicted))\n",
    "    r_square = r2_score(actual, predicted)\n",
    "    return mae, rmse, r_square"
   ]
  },
  {
   "cell_type": "markdown",
   "id": "02380ce5",
   "metadata": {},
   "source": [
    "## Defining All Models"
   ]
  },
  {
   "cell_type": "code",
   "execution_count": 26,
   "id": "9def3664",
   "metadata": {},
   "outputs": [],
   "source": [
    "models = {\n",
    "    \"Linear Regression\": LinearRegression(),\n",
    "    \"Lasso\": Lasso(),\n",
    "    \"Ridge\": Ridge(),\n",
    "    \"K-Neighbors Regression\": KNeighborsRegressor(),\n",
    "    \"Decision Tree\": DecisionTreeRegressor(),\n",
    "    \"Random Forest Regression\": RandomForestRegressor(),\n",
    "    \"XGB Regression\": XGBRegressor(),\n",
    "    \"CatBoosting Regression\": CatBoostRegressor(verbose=False),\n",
    "    \"AdaBoost Regression\": AdaBoostRegressor()\n",
    "}\n",
    "\n",
    "def model_training(X_train, y_train, X_test, y_test):\n",
    "    model_eval = {\"model\":[], \"MAE\":[], \"RMSE\":[], \"R2_Score\":[]}\n",
    "\n",
    "    for i in range(len(models.items())):\n",
    "        model = list(models.values())[i]\n",
    "        \n",
    "        # fit model\n",
    "        model.fit(X_train, y_train)\n",
    "        \n",
    "        # make predictions\n",
    "        y_train_pred = model.predict(X_train)\n",
    "        y_test_pred = model.predict(X_test)\n",
    "        \n",
    "        # evaluate model\n",
    "        model_train_mae, model_train_rmse, model_train_r2 = evaluate_model(y_train, y_train_pred)\n",
    "        model_test_mae, model_test_rmse, model_test_r2 = evaluate_model(y_test, y_test_pred)\n",
    "\n",
    "        model_eval['model'].append(list(models.keys())[i])\n",
    "        model_eval['MAE'].append(np.round(model_test_mae,4))\n",
    "        model_eval['RMSE'].append(np.round(model_test_rmse,4))\n",
    "        model_eval['R2_Score'].append(np.round(model_test_r2,4))\n",
    "        \n",
    "    return pd.DataFrame(model_eval)\n",
    "    "
   ]
  },
  {
   "cell_type": "code",
   "execution_count": 28,
   "id": "1e175895",
   "metadata": {},
   "outputs": [],
   "source": [
    "model_evals = model_training(X_train, y_train, X_test, y_test)"
   ]
  },
  {
   "cell_type": "code",
   "execution_count": 29,
   "id": "4afcc4dd",
   "metadata": {},
   "outputs": [
    {
     "data": {
      "text/html": [
       "<div>\n",
       "<style scoped>\n",
       "    .dataframe tbody tr th:only-of-type {\n",
       "        vertical-align: middle;\n",
       "    }\n",
       "\n",
       "    .dataframe tbody tr th {\n",
       "        vertical-align: top;\n",
       "    }\n",
       "\n",
       "    .dataframe thead th {\n",
       "        text-align: right;\n",
       "    }\n",
       "</style>\n",
       "<table border=\"1\" class=\"dataframe\">\n",
       "  <thead>\n",
       "    <tr style=\"text-align: right;\">\n",
       "      <th></th>\n",
       "      <th>model</th>\n",
       "      <th>MAE</th>\n",
       "      <th>RMSE</th>\n",
       "      <th>R2_Score</th>\n",
       "    </tr>\n",
       "  </thead>\n",
       "  <tbody>\n",
       "    <tr>\n",
       "      <th>0</th>\n",
       "      <td>Linear Regression</td>\n",
       "      <td>0.0022</td>\n",
       "      <td>0.0026</td>\n",
       "      <td>1.0000</td>\n",
       "    </tr>\n",
       "    <tr>\n",
       "      <th>1</th>\n",
       "      <td>Lasso</td>\n",
       "      <td>0.8769</td>\n",
       "      <td>1.1143</td>\n",
       "      <td>0.9942</td>\n",
       "    </tr>\n",
       "    <tr>\n",
       "      <th>2</th>\n",
       "      <td>Ridge</td>\n",
       "      <td>0.0073</td>\n",
       "      <td>0.0094</td>\n",
       "      <td>1.0000</td>\n",
       "    </tr>\n",
       "    <tr>\n",
       "      <th>3</th>\n",
       "      <td>K-Neighbors Regression</td>\n",
       "      <td>2.2834</td>\n",
       "      <td>3.0706</td>\n",
       "      <td>0.9560</td>\n",
       "    </tr>\n",
       "    <tr>\n",
       "      <th>4</th>\n",
       "      <td>Decision Tree</td>\n",
       "      <td>1.1432</td>\n",
       "      <td>1.6305</td>\n",
       "      <td>0.9876</td>\n",
       "    </tr>\n",
       "    <tr>\n",
       "      <th>5</th>\n",
       "      <td>Random Forest Regression</td>\n",
       "      <td>0.5097</td>\n",
       "      <td>1.1236</td>\n",
       "      <td>0.9941</td>\n",
       "    </tr>\n",
       "    <tr>\n",
       "      <th>6</th>\n",
       "      <td>XGB Regression</td>\n",
       "      <td>0.5722</td>\n",
       "      <td>1.0754</td>\n",
       "      <td>0.9946</td>\n",
       "    </tr>\n",
       "    <tr>\n",
       "      <th>7</th>\n",
       "      <td>CatBoosting Regression</td>\n",
       "      <td>0.3413</td>\n",
       "      <td>1.1623</td>\n",
       "      <td>0.9937</td>\n",
       "    </tr>\n",
       "    <tr>\n",
       "      <th>8</th>\n",
       "      <td>AdaBoost Regression</td>\n",
       "      <td>1.5002</td>\n",
       "      <td>2.1254</td>\n",
       "      <td>0.9789</td>\n",
       "    </tr>\n",
       "  </tbody>\n",
       "</table>\n",
       "</div>"
      ],
      "text/plain": [
       "                      model     MAE    RMSE  R2_Score\n",
       "0         Linear Regression  0.0022  0.0026    1.0000\n",
       "1                     Lasso  0.8769  1.1143    0.9942\n",
       "2                     Ridge  0.0073  0.0094    1.0000\n",
       "3    K-Neighbors Regression  2.2834  3.0706    0.9560\n",
       "4             Decision Tree  1.1432  1.6305    0.9876\n",
       "5  Random Forest Regression  0.5097  1.1236    0.9941\n",
       "6            XGB Regression  0.5722  1.0754    0.9946\n",
       "7    CatBoosting Regression  0.3413  1.1623    0.9937\n",
       "8       AdaBoost Regression  1.5002  2.1254    0.9789"
      ]
     },
     "execution_count": 29,
     "metadata": {},
     "output_type": "execute_result"
    }
   ],
   "source": [
    "model_evals"
   ]
  },
  {
   "cell_type": "code",
   "execution_count": 30,
   "id": "05992ecb",
   "metadata": {},
   "outputs": [
    {
     "data": {
      "text/html": [
       "<div>\n",
       "<style scoped>\n",
       "    .dataframe tbody tr th:only-of-type {\n",
       "        vertical-align: middle;\n",
       "    }\n",
       "\n",
       "    .dataframe tbody tr th {\n",
       "        vertical-align: top;\n",
       "    }\n",
       "\n",
       "    .dataframe thead th {\n",
       "        text-align: right;\n",
       "    }\n",
       "</style>\n",
       "<table border=\"1\" class=\"dataframe\">\n",
       "  <thead>\n",
       "    <tr style=\"text-align: right;\">\n",
       "      <th></th>\n",
       "      <th>MAE</th>\n",
       "      <th>RMSE</th>\n",
       "      <th>R2_Score</th>\n",
       "    </tr>\n",
       "  </thead>\n",
       "  <tbody>\n",
       "    <tr>\n",
       "      <th>count</th>\n",
       "      <td>9.000000</td>\n",
       "      <td>9.000000</td>\n",
       "      <td>9.000000</td>\n",
       "    </tr>\n",
       "    <tr>\n",
       "      <th>mean</th>\n",
       "      <td>0.804044</td>\n",
       "      <td>1.257122</td>\n",
       "      <td>0.988789</td>\n",
       "    </tr>\n",
       "    <tr>\n",
       "      <th>std</th>\n",
       "      <td>0.743786</td>\n",
       "      <td>0.961307</td>\n",
       "      <td>0.013879</td>\n",
       "    </tr>\n",
       "    <tr>\n",
       "      <th>min</th>\n",
       "      <td>0.002200</td>\n",
       "      <td>0.002600</td>\n",
       "      <td>0.956000</td>\n",
       "    </tr>\n",
       "    <tr>\n",
       "      <th>25%</th>\n",
       "      <td>0.341300</td>\n",
       "      <td>1.075400</td>\n",
       "      <td>0.987600</td>\n",
       "    </tr>\n",
       "    <tr>\n",
       "      <th>50%</th>\n",
       "      <td>0.572200</td>\n",
       "      <td>1.123600</td>\n",
       "      <td>0.994100</td>\n",
       "    </tr>\n",
       "    <tr>\n",
       "      <th>75%</th>\n",
       "      <td>1.143200</td>\n",
       "      <td>1.630500</td>\n",
       "      <td>0.994600</td>\n",
       "    </tr>\n",
       "    <tr>\n",
       "      <th>max</th>\n",
       "      <td>2.283400</td>\n",
       "      <td>3.070600</td>\n",
       "      <td>1.000000</td>\n",
       "    </tr>\n",
       "  </tbody>\n",
       "</table>\n",
       "</div>"
      ],
      "text/plain": [
       "            MAE      RMSE  R2_Score\n",
       "count  9.000000  9.000000  9.000000\n",
       "mean   0.804044  1.257122  0.988789\n",
       "std    0.743786  0.961307  0.013879\n",
       "min    0.002200  0.002600  0.956000\n",
       "25%    0.341300  1.075400  0.987600\n",
       "50%    0.572200  1.123600  0.994100\n",
       "75%    1.143200  1.630500  0.994600\n",
       "max    2.283400  3.070600  1.000000"
      ]
     },
     "execution_count": 30,
     "metadata": {},
     "output_type": "execute_result"
    }
   ],
   "source": [
    "model_evals.describe()"
   ]
  },
  {
   "cell_type": "code",
   "execution_count": 46,
   "id": "47d9cf6b",
   "metadata": {},
   "outputs": [],
   "source": [
    "min_mae_model = model_evals[model_evals['MAE']==model_evals['MAE'].min()]['model'].values\n",
    "min_rmse_model = model_evals[model_evals['RMSE']==model_evals['RMSE'].min()]['model'].values\n",
    "max_r2_model = model_evals[model_evals['R2_Score']==model_evals['R2_Score'].max()]['model'].values"
   ]
  },
  {
   "cell_type": "code",
   "execution_count": 47,
   "id": "948bd85f",
   "metadata": {},
   "outputs": [
    {
     "name": "stdout",
     "output_type": "stream",
     "text": [
      "['Linear Regression']\n",
      "['Linear Regression']\n",
      "['Linear Regression' 'Ridge']\n"
     ]
    }
   ],
   "source": [
    "print(min_mae_model)\n",
    "print(min_rmse_model)\n",
    "print(max_r2_model)"
   ]
  },
  {
   "cell_type": "markdown",
   "id": "3adcb084",
   "metadata": {},
   "source": [
    "* We will proceed with the Linear Regression Model as it has the least mean-absolute error, least root-mean-squared error, and highest R-squared score"
   ]
  },
  {
   "cell_type": "markdown",
   "id": "3efc2c33",
   "metadata": {},
   "source": [
    "## Linear Regression"
   ]
  },
  {
   "cell_type": "code",
   "execution_count": 50,
   "id": "f0222e2d",
   "metadata": {},
   "outputs": [
    {
     "name": "stdout",
     "output_type": "stream",
     "text": [
      "0.9999999672774438\n"
     ]
    }
   ],
   "source": [
    "linReg = LinearRegression()\n",
    "linReg.fit(X_train, y_train)\n",
    "y_pred = linReg.predict(X_test)\n",
    "print(r2_score(y_test, y_pred))"
   ]
  },
  {
   "cell_type": "markdown",
   "id": "af699aac",
   "metadata": {},
   "source": [
    "### Plot Actual vs Predicted"
   ]
  },
  {
   "cell_type": "code",
   "execution_count": 52,
   "id": "b59e8319",
   "metadata": {},
   "outputs": [
    {
     "data": {
      "image/png": "[encoded data removed]",
      "text/plain": [
       "<Figure size 640x480 with 1 Axes>"
      ]
     },
     "metadata": {},
     "output_type": "display_data"
    }
   ],
   "source": [
    "plt.scatter(y_test, y_pred)\n",
    "plt.xlabel(\"Actual Average Scores\")\n",
    "plt.ylabel(\"Predicted Average Scores\")\n",
    "plt.title(\"Actual vs Predicted\")\n",
    "plt.show()"
   ]
  },
  {
   "cell_type": "code",
   "execution_count": 58,
   "id": "1c5962b4",
   "metadata": {},
   "outputs": [
    {
     "data": {
      "image/png": "[encoded data removed]",
      "text/plain": [
       "<Figure size 640x480 with 1 Axes>"
      ]
     },
     "metadata": {},
     "output_type": "display_data"
    }
   ],
   "source": [
    "sns.regplot(x=y_test, y=y_pred,color='red')\n",
    "plt.show()"
   ]
  },
  {
   "cell_type": "code",
   "execution_count": 60,
   "id": "01ab3662",
   "metadata": {},
   "outputs": [
    {
     "data": {
      "text/html": [
       "<div>\n",
       "<style scoped>\n",
       "    .dataframe tbody tr th:only-of-type {\n",
       "        vertical-align: middle;\n",
       "    }\n",
       "\n",
       "    .dataframe tbody tr th {\n",
       "        vertical-align: top;\n",
       "    }\n",
       "\n",
       "    .dataframe thead th {\n",
       "        text-align: right;\n",
       "    }\n",
       "</style>\n",
       "<table border=\"1\" class=\"dataframe\">\n",
       "  <thead>\n",
       "    <tr style=\"text-align: right;\">\n",
       "      <th></th>\n",
       "      <th>actual_values</th>\n",
       "      <th>predicted_values</th>\n",
       "      <th>residual</th>\n",
       "    </tr>\n",
       "  </thead>\n",
       "  <tbody>\n",
       "    <tr>\n",
       "      <th>845</th>\n",
       "      <td>86.33</td>\n",
       "      <td>86.332560</td>\n",
       "      <td>-0.002560</td>\n",
       "    </tr>\n",
       "    <tr>\n",
       "      <th>901</th>\n",
       "      <td>75.00</td>\n",
       "      <td>75.000087</td>\n",
       "      <td>-0.000087</td>\n",
       "    </tr>\n",
       "    <tr>\n",
       "      <th>429</th>\n",
       "      <td>61.67</td>\n",
       "      <td>61.666185</td>\n",
       "      <td>0.003815</td>\n",
       "    </tr>\n",
       "    <tr>\n",
       "      <th>522</th>\n",
       "      <td>61.33</td>\n",
       "      <td>61.334096</td>\n",
       "      <td>-0.004096</td>\n",
       "    </tr>\n",
       "    <tr>\n",
       "      <th>235</th>\n",
       "      <td>77.33</td>\n",
       "      <td>77.333247</td>\n",
       "      <td>-0.003247</td>\n",
       "    </tr>\n",
       "    <tr>\n",
       "      <th>309</th>\n",
       "      <td>52.67</td>\n",
       "      <td>52.667462</td>\n",
       "      <td>0.002538</td>\n",
       "    </tr>\n",
       "    <tr>\n",
       "      <th>714</th>\n",
       "      <td>68.00</td>\n",
       "      <td>67.999914</td>\n",
       "      <td>0.000086</td>\n",
       "    </tr>\n",
       "    <tr>\n",
       "      <th>787</th>\n",
       "      <td>29.67</td>\n",
       "      <td>29.666448</td>\n",
       "      <td>0.003552</td>\n",
       "    </tr>\n",
       "    <tr>\n",
       "      <th>570</th>\n",
       "      <td>72.00</td>\n",
       "      <td>71.999602</td>\n",
       "      <td>0.000398</td>\n",
       "    </tr>\n",
       "    <tr>\n",
       "      <th>120</th>\n",
       "      <td>86.67</td>\n",
       "      <td>86.667082</td>\n",
       "      <td>0.002918</td>\n",
       "    </tr>\n",
       "    <tr>\n",
       "      <th>411</th>\n",
       "      <td>81.67</td>\n",
       "      <td>81.665741</td>\n",
       "      <td>0.004259</td>\n",
       "    </tr>\n",
       "    <tr>\n",
       "      <th>584</th>\n",
       "      <td>74.33</td>\n",
       "      <td>74.333121</td>\n",
       "      <td>-0.003121</td>\n",
       "    </tr>\n",
       "    <tr>\n",
       "      <th>687</th>\n",
       "      <td>76.00</td>\n",
       "      <td>75.999806</td>\n",
       "      <td>0.000194</td>\n",
       "    </tr>\n",
       "    <tr>\n",
       "      <th>346</th>\n",
       "      <td>60.00</td>\n",
       "      <td>59.999576</td>\n",
       "      <td>0.000424</td>\n",
       "    </tr>\n",
       "    <tr>\n",
       "      <th>280</th>\n",
       "      <td>49.00</td>\n",
       "      <td>49.000573</td>\n",
       "      <td>-0.000573</td>\n",
       "    </tr>\n",
       "    <tr>\n",
       "      <th>137</th>\n",
       "      <td>60.33</td>\n",
       "      <td>60.333473</td>\n",
       "      <td>-0.003473</td>\n",
       "    </tr>\n",
       "    <tr>\n",
       "      <th>174</th>\n",
       "      <td>49.33</td>\n",
       "      <td>49.334086</td>\n",
       "      <td>-0.004086</td>\n",
       "    </tr>\n",
       "    <tr>\n",
       "      <th>998</th>\n",
       "      <td>74.33</td>\n",
       "      <td>74.333348</td>\n",
       "      <td>-0.003348</td>\n",
       "    </tr>\n",
       "    <tr>\n",
       "      <th>314</th>\n",
       "      <td>66.00</td>\n",
       "      <td>66.000616</td>\n",
       "      <td>-0.000616</td>\n",
       "    </tr>\n",
       "    <tr>\n",
       "      <th>298</th>\n",
       "      <td>45.33</td>\n",
       "      <td>45.333408</td>\n",
       "      <td>-0.003408</td>\n",
       "    </tr>\n",
       "  </tbody>\n",
       "</table>\n",
       "</div>"
      ],
      "text/plain": [
       "     actual_values  predicted_values  residual\n",
       "845          86.33         86.332560 -0.002560\n",
       "901          75.00         75.000087 -0.000087\n",
       "429          61.67         61.666185  0.003815\n",
       "522          61.33         61.334096 -0.004096\n",
       "235          77.33         77.333247 -0.003247\n",
       "309          52.67         52.667462  0.002538\n",
       "714          68.00         67.999914  0.000086\n",
       "787          29.67         29.666448  0.003552\n",
       "570          72.00         71.999602  0.000398\n",
       "120          86.67         86.667082  0.002918\n",
       "411          81.67         81.665741  0.004259\n",
       "584          74.33         74.333121 -0.003121\n",
       "687          76.00         75.999806  0.000194\n",
       "346          60.00         59.999576  0.000424\n",
       "280          49.00         49.000573 -0.000573\n",
       "137          60.33         60.333473 -0.003473\n",
       "174          49.33         49.334086 -0.004086\n",
       "998          74.33         74.333348 -0.003348\n",
       "314          66.00         66.000616 -0.000616\n",
       "298          45.33         45.333408 -0.003408"
      ]
     },
     "execution_count": 60,
     "metadata": {},
     "output_type": "execute_result"
    }
   ],
   "source": [
    "linRegModel = pd.DataFrame(data={'actual_values':y_test, 'predicted_values':y_pred,'residual':y_test-y_pred})\n",
    "linRegModel.sample(20)"
   ]
  }
 ],
 "metadata": {
  "kernelspec": {
   "display_name": "venv",
   "language": "python",
   "name": "python3"
  },
  "language_info": {
   "codemirror_mode": {
    "name": "ipython",
    "version": 3
   },
   "file_extension": ".py",
   "mimetype": "text/x-python",
   "name": "python",
   "nbconvert_exporter": "python",
   "pygments_lexer": "ipython3",
   "version": "3.12.6"
  }
 },
 "nbformat": 4,
 "nbformat_minor": 5
}
